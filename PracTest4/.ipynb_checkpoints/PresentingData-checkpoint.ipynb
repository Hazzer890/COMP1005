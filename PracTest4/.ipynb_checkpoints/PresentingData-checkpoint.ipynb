{
 "cells": [
  {
   "cell_type": "markdown",
   "metadata": {},
   "source": [
    "# Presenting Structured Data\n",
    "In this notebook we will be exploring the presentation of data with a range of tools. Create your Prac9 directory and copy the hospitals data file (govhack3_FOP.csv) into the directory."
   ]
  },
  {
   "cell_type": "code",
   "execution_count": null,
   "metadata": {
    "collapsed": true
   },
   "outputs": [],
   "source": [
    "#import matplotlib and make it inline for plotting\n",
    "import matplotlib.pyplot as plt\n",
    "%matplotlib inline"
   ]
  },
  {
   "cell_type": "markdown",
   "metadata": {},
   "source": [
    "## Matplotlib\n",
    "Matplotlib is part of standard Python and will always be available. \n",
    "\n",
    "**Pros**\n",
    "- always available - nothing to install\n",
    "- publication quality output\n",
    "- recently introduced styles (See: https://matplotlib.org/users/style_sheets.html)\n",
    "\n",
    "**Cons**\n",
    "- prettier outputs are available\n",
    "- doesn't provide csv and dataframe tools\n",
    "\n",
    "**Example:**"
   ]
  },
  {
   "cell_type": "code",
   "execution_count": null,
   "metadata": {},
   "outputs": [],
   "source": [
    "with open('govhack3_FOP.csv') as fileobj:\n",
    "    lines = []\n",
    "    for line in fileobj.readlines():\n",
    "        lines.append(line.split(','))\n",
    "headers=lines[0].copy()\n",
    "del lines[0]\n",
    "print(lines[-3:])\n",
    "print(headers)   "
   ]
  },
  {
   "cell_type": "code",
   "execution_count": null,
   "metadata": {},
   "outputs": [],
   "source": [
    "RPH_attendance = []\n",
    "for line in lines:\n",
    "    RPH_attendance.append(int(line[2]))\n",
    "plt.plot(RPH_attendance)"
   ]
  },
  {
   "cell_type": "markdown",
   "metadata": {},
   "source": [
    "** Styles **\n",
    "\n",
    "Exploring the matplotlib styles. Start by listing what's available. You can also define your own.\n",
    "\n",
    "Putting the style in a \"with\" statement restricts it to that block - otherwise it affects every plot that follows."
   ]
  },
  {
   "cell_type": "code",
   "execution_count": null,
   "metadata": {},
   "outputs": [],
   "source": [
    "print(plt.style.available)"
   ]
  },
  {
   "cell_type": "code",
   "execution_count": null,
   "metadata": {},
   "outputs": [],
   "source": [
    "with plt.style.context(('dark_background')):\n",
    "    plt.plot(RPH_attendance)"
   ]
  },
  {
   "cell_type": "markdown",
   "metadata": {},
   "source": [
    "## Pandas\n",
    "Pandas is part of Python and will always be available. It adds Dataframe objects and operations, along with a wrapper around matplotlib to make it easy to use with Dataframes.\n",
    "\n",
    "**Pros**\n",
    "- always available\n",
    "- simpler methods for plotting\n",
    "- pandas gives lots of useful support to tabular data\n",
    "- styles available to easily apply an overall, consistent style to plots. ** Note: ** the styles used to be in pandas, but have now been moved back to matplotlib, so you will get a warning with the code from the lectures and some websites.\n",
    "\n",
    "**Cons**\n",
    "- still may need to know matplotlib if needing specific tweaking of plots\n",
    "\n",
    "**Example:**"
   ]
  },
  {
   "cell_type": "code",
   "execution_count": null,
   "metadata": {},
   "outputs": [],
   "source": [
    "import pandas as pd\n",
    "hospitals = pd.read_csv(\"govhack3_FOP.csv\", header=0) \n"
   ]
  },
  {
   "cell_type": "code",
   "execution_count": null,
   "metadata": {},
   "outputs": [],
   "source": [
    "hospitals.describe()\n"
   ]
  },
  {
   "cell_type": "code",
   "execution_count": null,
   "metadata": {},
   "outputs": [],
   "source": [
    "hospitals.head()"
   ]
  },
  {
   "cell_type": "code",
   "execution_count": null,
   "metadata": {},
   "outputs": [],
   "source": [
    "my_plot = hospitals['RPH_Attendance'][:30].plot(kind='bar',legend=None, title=\"RPH Attendance\") \n",
    "my_plot.set_xlabel(\"Dates\") \n",
    "my_plot.set_ylabel(\"Numbers\")"
   ]
  },
  {
   "cell_type": "code",
   "execution_count": null,
   "metadata": {},
   "outputs": [],
   "source": [
    "monthly = hospitals.groupby('Month')\n",
    "monthly.sum()['RPH_Attendance']"
   ]
  },
  {
   "cell_type": "code",
   "execution_count": null,
   "metadata": {},
   "outputs": [],
   "source": [
    "month_plot = monthly.sum()['RPH_Attendance'].plot(kind='bar', legend = None, title='RPH Monthly attendance')"
   ]
  },
  {
   "cell_type": "markdown",
   "metadata": {},
   "source": [
    "** Styles **\n",
    "\n",
    "Testing out styles with pandas. Note that the code below will affect all later calls to matplotlib plots. To make style local, use the with statement."
   ]
  },
  {
   "cell_type": "code",
   "execution_count": null,
   "metadata": {},
   "outputs": [],
   "source": [
    "month_plot = monthly.sum()['RPH_Attendance'].plot(kind='bar', legend = None, title='RPH Monthly attendance')\n",
    "plt.style.use('grayscale') \n",
    "#with plt.style.context(('grayscale')):\n",
    "#   month_plot = monthly.sum()['RPH_Attendance'].plot(kind='bar', legend = None, title='RPH Monthly attendance')\n",
    "\n"
   ]
  },
  {
   "cell_type": "markdown",
   "metadata": {},
   "source": [
    "## Seaborn\n",
    "Seaborn is also based on matplotlib. It aims to make plotting simpler and more attractive\n",
    "\n",
    "**Pros**\n",
    "- matplotlib provides a familiar basis\n",
    "- Prettier output\n",
    "\n",
    "**Cons**\n",
    "- another package to load and use\n",
    "\n",
    "**Example:**"
   ]
  },
  {
   "cell_type": "code",
   "execution_count": null,
   "metadata": {},
   "outputs": [],
   "source": [
    "import seaborn as sns\n",
    "\n",
    "hospitals2 = pd.read_csv(\"govhack3_FOP.csv\", header=0)\n",
    "\n",
    "hospitals2.head()\n",
    "\n"
   ]
  },
  {
   "cell_type": "markdown",
   "metadata": {},
   "source": [
    "** Styles **\n",
    "\n",
    "There are five preset seaborn themes: darkgrid, whitegrid, dark, white, and ticks. They are each suited to different applications and personal preferences. The default theme is darkgrid. More information is at https://seaborn.pydata.org/tutorial/aesthetics.html"
   ]
  },
  {
   "cell_type": "code",
   "execution_count": null,
   "metadata": {},
   "outputs": [],
   "source": [
    "hosp_july = hospitals2[:31]\n",
    "sns.set_style(\"darkgrid\") \n",
    "bar_plot = sns.barplot(x=hosp_july[\"Date\"], y=hosp_july[\"RPH_Attendance\"], palette=\"muted\") \n",
    "plt.xticks(rotation=90) \n",
    "plt.show() "
   ]
  },
  {
   "cell_type": "code",
   "execution_count": null,
   "metadata": {},
   "outputs": [],
   "source": [
    "sns.set(style=\"white\") \n",
    "bar_plot = sns.barplot(x=hosp_july[\"Date\"], y=hosp_july[\"RPH_Attendance\"], palette=\"muted\") \n",
    "plt.xticks(rotation=90) \n",
    "plt.show()"
   ]
  },
  {
   "cell_type": "markdown",
   "metadata": {},
   "source": [
    "## Bokeh\n",
    "Not based on matplotlib, Bokeh is geared towards web-visualisations. See http://bokeh.pydata.org/en/latest/docs/user_guide/charts.html for more.\n",
    "\n",
    "**Pros**\n",
    "- Has some amazingly beautiful plots\n",
    "- Scale well with large data options\n",
    "\n",
    "**Cons**\n",
    "- Another package to install\n",
    "\n",
    "**Example:**"
   ]
  },
  {
   "cell_type": "code",
   "execution_count": null,
   "metadata": {},
   "outputs": [],
   "source": [
    "from bokeh.charts import Bar, show, output_file\n",
    "\n",
    "hospitals3 = pd.read_csv(\"govhack3_FOP.csv\", header=0)\n",
    "\n",
    "hosp_july = hospitals3[:31]\n",
    "#print(hosp_july)\n",
    "\n",
    "p = Bar(hosp_july, 'Date', values='RPH_Attendance', title=\"July Attendance at RPH\", color=\"indigo\", legend=None)\n",
    "\n",
    "output_file(\"bar.html\")\n",
    "\n",
    "show(p)\n"
   ]
  },
  {
   "cell_type": "markdown",
   "metadata": {},
   "source": [
    "## Basemap\n",
    "Basemap is a package for plotting maps in Python. It may need additional packages to be installed (basemap, pillow). Visit the basemap documentation and tutorial to find out more - http://basemaptutorial.readthedocs.io/en/latest/. Then try the code below.\n",
    "\n",
    "**Pros**\n",
    "- builds on matplotlib\n",
    "- lots of options for working with maps\n",
    "\n",
    "**Cons**\n",
    "- need to install basemap and pillow packages\n",
    "- complex\n",
    "\n",
    "**Example:**"
   ]
  },
  {
   "cell_type": "code",
   "execution_count": null,
   "metadata": {},
   "outputs": [],
   "source": [
    "from mpl_toolkits.basemap import Basemap\n",
    "import matplotlib.pyplot as plt\n",
    "\n",
    "\n",
    "map = Basemap(width=5000000,height=4000000,\n",
    "            rsphere=(6378137.00,6356752.3142),\\\n",
    "            resolution='l',area_thresh=1000.,projection='lcc',\\\n",
    "            lat_0=-27.,lon_0=133)\n",
    "\n",
    "map.drawmapboundary(fill_color='aqua')\n",
    "map.fillcontinents(color='#ddaa66', lake_color='aqua')\n",
    "\n",
    "map.drawcountries()\n",
    "map.drawstates(color='0.5')\n",
    "map.drawcoastlines()\n",
    "plt.title('Map of Australia')\n",
    "\n",
    "plt.show()"
   ]
  },
  {
   "cell_type": "code",
   "execution_count": null,
   "metadata": {
    "collapsed": true
   },
   "outputs": [],
   "source": []
  }
 ],
 "metadata": {
  "anaconda-cloud": {},
  "kernelspec": {
   "display_name": "Python 3",
   "language": "python",
   "name": "python3"
  },
  "language_info": {
   "codemirror_mode": {
    "name": "ipython",
    "version": 3
   },
   "file_extension": ".py",
   "mimetype": "text/x-python",
   "name": "python",
   "nbconvert_exporter": "python",
   "pygments_lexer": "ipython3",
   "version": "3.6.9"
  }
 },
 "nbformat": 4,
 "nbformat_minor": 1
}
