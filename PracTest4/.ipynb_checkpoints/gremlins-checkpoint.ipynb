{
 "cells": [
  {
   "cell_type": "code",
   "execution_count": 11,
   "metadata": {},
   "outputs": [],
   "source": [
    "import pandas as pd\n",
    "dfv = pd.read_csv(\"gremlin_pop-sample.csv\", header=0) "
   ]
  },
  {
   "cell_type": "code",
   "execution_count": 12,
   "metadata": {},
   "outputs": [
    {
     "name": "stdout",
     "output_type": "stream",
     "text": [
      "   Initial Population  Good Gremlins  Bad Gremlins\n",
      "0                   5             99             1\n",
      "1                  10            959             3\n",
      "2                  15            425             4\n",
      "3                  20            316             0\n",
      "4                  25             75             2\n",
      "5                  30           1027            12\n",
      "       Initial Population  Good Gremlins  Bad Gremlins\n",
      "count            6.000000       6.000000      6.000000\n",
      "mean            17.500000     483.500000      3.666667\n",
      "std              9.354143     416.577364      4.320494\n",
      "min              5.000000      75.000000      0.000000\n",
      "25%             11.250000     153.250000      1.250000\n",
      "50%             17.500000     370.500000      2.500000\n",
      "75%             23.750000     825.500000      3.750000\n",
      "max             30.000000    1027.000000     12.000000\n"
     ]
    }
   ],
   "source": [
    "print(dfv)\n",
    "print(dfv.describe())"
   ]
  },
  {
   "cell_type": "code",
   "execution_count": 13,
   "metadata": {},
   "outputs": [
    {
     "data": {
      "text/plain": [
       "Text(0, 0.5, 'simulation')"
      ]
     },
     "execution_count": 13,
     "metadata": {},
     "output_type": "execute_result"
    },
    {
     "data": {
      "image/png": "[encoded data removed]",
      "text/plain": [
       "<Figure size 432x288 with 1 Axes>"
      ]
     },
     "metadata": {
      "needs_background": "light"
     },
     "output_type": "display_data"
    }
   ],
   "source": [
    "df = dfv.plot(kind='bar', title=\"Gremlin Simulation\")\n",
    "df.set_xlabel(\"Number of Gremlins\")\n",
    "df.set_ylabel(\"simulation\")"
   ]
  },
  {
   "cell_type": "code",
   "execution_count": null,
   "metadata": {},
   "outputs": [],
   "source": []
  },
  {
   "cell_type": "code",
   "execution_count": null,
   "metadata": {},
   "outputs": [],
   "source": []
  }
 ],
 "metadata": {
  "kernelspec": {
   "display_name": "Python 3",
   "language": "python",
   "name": "python3"
  },
  "language_info": {
   "codemirror_mode": {
    "name": "ipython",
    "version": 3
   },
   "file_extension": ".py",
   "mimetype": "text/x-python",
   "name": "python",
   "nbconvert_exporter": "python",
   "pygments_lexer": "ipython3",
   "version": "3.6.9"
  }
 },
 "nbformat": 4,
 "nbformat_minor": 4
}
